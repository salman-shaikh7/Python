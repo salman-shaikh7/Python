{
 "cells": [
  {
   "cell_type": "code",
   "execution_count": 3,
   "metadata": {},
   "outputs": [],
   "source": [
    "sa= \"SALMNA\""
   ]
  },
  {
   "cell_type": "code",
   "execution_count": 5,
   "metadata": {},
   "outputs": [
    {
     "data": {
      "text/plain": [
       "'SALMNA'"
      ]
     },
     "execution_count": 5,
     "metadata": {},
     "output_type": "execute_result"
    }
   ],
   "source": [
    "sa"
   ]
  },
  {
   "cell_type": "code",
   "execution_count": 6,
   "metadata": {},
   "outputs": [],
   "source": [
    "class=1"
   ]
  },
  {
   "cell_type": "code",
   "execution_count": 8,
   "metadata": {},
   "outputs": [
    {
     "data": {
      "text/plain": [
       "1"
      ]
     },
     "execution_count": 8,
     "metadata": {},
     "output_type": "execute_result"
    }
   ],
   "source": [
    "int"
   ]
  },
  {
   "cell_type": "code",
   "execution_count": 9,
   "metadata": {},
   "outputs": [],
   "source": [
    "import re"
   ]
  },
  {
   "cell_type": "code",
   "execution_count": 6,
   "metadata": {},
   "outputs": [],
   "source": [
    "import logging\n",
    "\n",
    "# Configure logging\n",
    "logging.basicConfig(\n",
    "    filename=\"arithmetic_operations.log\",\n",
    "    level=logging.DEBUG,\n",
    "    format=\"%(asctime)s - %(levelname)s - %(message)s\"\n",
    ")\n"
   ]
  },
  {
   "cell_type": "code",
   "execution_count": 7,
   "metadata": {},
   "outputs": [],
   "source": [
    "\n",
    "def add(a, b):\n",
    "    result = a + b\n",
    "    logging.info(f\"Adding {a} and {b}, result: {result}\")\n",
    "    return result\n",
    "\n",
    "def subtract(a, b):\n",
    "    result = a - b\n",
    "    logging.info(f\"Subtracting {b} from {a}, result: {result}\")\n",
    "    return result\n",
    "\n",
    "def multiply(a, b):\n",
    "    result = a * b\n",
    "    logging.info(f\"Multiplying {a} and {b}, result: {result}\")\n",
    "    return result\n",
    "\n",
    "def divide(a, b):\n",
    "    try:\n",
    "        if b == 0:\n",
    "            raise ValueError(\"Cannot divide by zero\")\n",
    "        result = a / b\n",
    "        logging.info(f\"Dividing {a} by {b}, result: {result}\")\n",
    "        return result\n",
    "    except ValueError as e:\n",
    "        logging.error(f\"Error occurred: {e}\")\n",
    "        return None\n"
   ]
  },
  {
   "cell_type": "code",
   "execution_count": 8,
   "metadata": {},
   "outputs": [],
   "source": [
    "\n",
    "def main():\n",
    "    x = 10\n",
    "    y = 0\n",
    "\n",
    "    logging.debug(f\"Starting operations with x={x}, y={y}\")\n",
    "\n",
    "    add_result = add(x, y)\n",
    "    print(\"Addition:\", add_result)\n",
    "\n",
    "    subtract_result = subtract(x, y)\n",
    "    print(\"Subtraction:\", subtract_result)\n",
    "\n",
    "    multiply_result = multiply(x, y)\n",
    "    print(\"Multiplication:\", multiply_result)\n",
    "\n",
    "    divide_result = divide(x, y)\n",
    "    print(\"Division:\", divide_result)\n"
   ]
  },
  {
   "cell_type": "code",
   "execution_count": 9,
   "metadata": {},
   "outputs": [
    {
     "name": "stdout",
     "output_type": "stream",
     "text": [
      "Addition: 10\n",
      "Subtraction: 10\n",
      "Multiplication: 0\n",
      "Division: None\n"
     ]
    }
   ],
   "source": [
    "\n",
    "if __name__ == \"__main__\":\n",
    "    main()\n"
   ]
  },
  {
   "cell_type": "code",
   "execution_count": 11,
   "metadata": {},
   "outputs": [
    {
     "name": "stdout",
     "output_type": "stream",
     "text": [
      "e1\n",
      "(1, 2)\n"
     ]
    }
   ],
   "source": [
    "def sum3(*args,**kwargs):\n",
    "    print(kwargs['Error'])\n",
    "    print(args)\n",
    "    return None\n",
    "\n",
    "sum3(1,2,Error='e1')"
   ]
  },
  {
   "cell_type": "code",
   "execution_count": 1,
   "metadata": {},
   "outputs": [
    {
     "ename": "ModuleNotFoundError",
     "evalue": "No module named 'assad'",
     "output_type": "error",
     "traceback": [
      "\u001b[1;31m---------------------------------------------------------------------------\u001b[0m",
      "\u001b[1;31mModuleNotFoundError\u001b[0m                       Traceback (most recent call last)",
      "Cell \u001b[1;32mIn[1], line 1\u001b[0m\n\u001b[1;32m----> 1\u001b[0m \u001b[38;5;28;01mimport\u001b[39;00m \u001b[38;5;21;01massad\u001b[39;00m\n",
      "\u001b[1;31mModuleNotFoundError\u001b[0m: No module named 'assad'"
     ]
    }
   ],
   "source": [
    "import assad"
   ]
  },
  {
   "cell_type": "code",
   "execution_count": null,
   "metadata": {},
   "outputs": [],
   "source": []
  }
 ],
 "metadata": {
  "kernelspec": {
   "display_name": "Data_Mining",
   "language": "python",
   "name": "python3"
  },
  "language_info": {
   "codemirror_mode": {
    "name": "ipython",
    "version": 3
   },
   "file_extension": ".py",
   "mimetype": "text/x-python",
   "name": "python",
   "nbconvert_exporter": "python",
   "pygments_lexer": "ipython3",
   "version": "3.11.5"
  }
 },
 "nbformat": 4,
 "nbformat_minor": 2
}
